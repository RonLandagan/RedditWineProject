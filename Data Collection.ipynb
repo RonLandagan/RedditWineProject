{
 "cells": [
  {
   "cell_type": "markdown",
   "id": "18169645-44a0-4f39-aab3-417c65fd2195",
   "metadata": {},
   "source": [
    "# Data Collection"
   ]
  },
  {
   "cell_type": "markdown",
   "id": "8dba8ab2-45e3-430e-b3dd-820fb8652f25",
   "metadata": {},
   "source": [
    "### In this notebook, we will collect data from the top 1000 posts of Reddit's r/wine subreddit using Reddit's API."
   ]
  },
  {
   "cell_type": "markdown",
   "id": "6f3a41fb-8c6b-4cb0-9132-eeca7092b81b",
   "metadata": {},
   "source": [
    "#### First, we will load in our login info for authorization."
   ]
  },
  {
   "cell_type": "code",
   "execution_count": 1,
   "id": "0c927705-a18f-4edf-b9b5-5947a2051f97",
   "metadata": {},
   "outputs": [],
   "source": [
    "# Load in login info\n",
    "import pickle\n",
    "\n",
    "def load_object(filename):\n",
    "    try:\n",
    "        with open(filename, \"rb\") as f:\n",
    "            return pickle.load(f)\n",
    "    except Exception as ex:\n",
    "        print(\"Error during unpickling object:\", ex)\n",
    "\n",
    "login_info = load_object(\"login_info.pickle\")"
   ]
  },
  {
   "cell_type": "markdown",
   "id": "6dd23243-b5b1-4bbc-be37-99f2b6cd79f2",
   "metadata": {},
   "source": [
    "#### Next, we request authorization to make further requests"
   ]
  },
  {
   "cell_type": "code",
   "execution_count": 89,
   "id": "e0f45d85-1c60-4087-a0ff-24c3e8636632",
   "metadata": {},
   "outputs": [
    {
     "data": {
      "text/plain": [
       "<Response [200]>"
      ]
     },
     "execution_count": 89,
     "metadata": {},
     "output_type": "execute_result"
    }
   ],
   "source": [
    "# Request OAuth token from Reddit\n",
    "\n",
    "import requests\n",
    "\n",
    "# Script Authentication\n",
    "auth = requests.auth.HTTPBasicAuth(login_info['client_id'], login_info['secret'])\n",
    "\n",
    "# pass in login method\n",
    "data = {'grant_type' : 'password',\n",
    "        'username' : login_info['username'],\n",
    "        'password' : login_info['password']}\n",
    "\n",
    "# setup header info\n",
    "headers = {'User-Agent' : 'desktop:myDataAnalysisPortfolioProject:v0.0.1 (by /u/bwZel)'}\n",
    "\n",
    "# send request for OAuth token\n",
    "res = requests.post('https://www.reddit.com/api/v1/access_token',\n",
    "                    auth=auth, data=data, headers=headers)\n",
    "\n",
    "# convert response to JSON and pull access_token value\n",
    "TOKEN = res.json()['access_token']\n",
    "\n",
    "# add authorization to our headers dictionary\n",
    "headers = {**headers, **{'Authorization' : f\"bearer {TOKEN}\"}}\n",
    "\n",
    "# add headers=headers to our requests\n",
    "requests.get('https://oauth.reddit.com/api/v1/me', headers=headers)"
   ]
  },
  {
   "cell_type": "markdown",
   "id": "d5b21995-a11e-4fab-9e7f-7ed5071eb3a2",
   "metadata": {},
   "source": [
    "#### Now that we have the authorization, we can begin to request data from reddit's API. In this project, I will gather data from the subreddit, r/wine, and hopefully find insights from this data."
   ]
  },
  {
   "cell_type": "markdown",
   "id": "39ca2ef3-2334-49f3-b0b3-77e7fd22d6b4",
   "metadata": {},
   "source": [
    "#### This function will be used for extracting the relevant information from our response and creating a Pandas DataFrame from that information."
   ]
  },
  {
   "cell_type": "code",
   "execution_count": 2,
   "id": "b7eded80-5aeb-4091-a4a8-fab9ee379e1b",
   "metadata": {},
   "outputs": [],
   "source": [
    "from datetime import datetime\n",
    "\n",
    "# Use this function to convert responses to dataframes\n",
    "def df_from_response(res):\n",
    "    # initialize dataframe for each batch of data\n",
    "    df = pd.DataFrame()\n",
    "    \n",
    "    # loop through each post pulled from res and append necessary info to df\n",
    "    for post in res.json()['data']['children']:\n",
    "        df = df.append({\n",
    "            'subreddit' : post['data']['subreddit_name_prefixed'],\n",
    "            'title' : post['data']['title'],\n",
    "            'selftext' : post['data']['selftext'],\n",
    "            'upvote_ratio' : post['data']['upvote_ratio'],\n",
    "            'ups' : post['data']['ups'],\n",
    "            'downs' : post['data']['downs'],\n",
    "            'score' : post['data']['score'],\n",
    "            'created_utc' : datetime.fromtimestamp(post['data']['created_utc']),\n",
    "            'id' : post['data']['id'],\n",
    "            'kind' : post['kind']\n",
    "        }, ignore_index=True)\n",
    "    \n",
    "    return df"
   ]
  },
  {
   "cell_type": "markdown",
   "id": "39449a9e-958c-4073-a796-6f6d279f5344",
   "metadata": {},
   "source": [
    "#### Here, we will make the 10 requests to get our top 1000 posts from Reddit's r/wine subreddit"
   ]
  },
  {
   "cell_type": "code",
   "execution_count": 4,
   "id": "573ea210-c546-4aa0-8171-f76edf381724",
   "metadata": {},
   "outputs": [],
   "source": [
    "# Gather the data\n",
    "import pandas as pd\n",
    "\n",
    "subreddit_data = pd.DataFrame()\n",
    "params = {'limit' : 100}\n",
    "\n",
    "for i in range(10):\n",
    "    # Make request\n",
    "    res = requests.get(\"http://oauth.reddit.com/r/wine/top/?t=all\",\n",
    "                       headers=headers,\n",
    "                       params=params)\n",
    "    \n",
    "    # Get dataframe from response\n",
    "    new_df = df_from_response(res)\n",
    "    \n",
    "    # Get final row (oldest entry)\n",
    "    row = new_df.iloc[len(new_df)-1]\n",
    "    \n",
    "    # Create fullname\n",
    "    fullname = row['kind'] + '_' + row['id']\n",
    "    \n",
    "    # Add/update after params\n",
    "    params['after'] = fullname\n",
    "    \n",
    "    # Append new_df to dataFrame\n",
    "    subreddit_data = subreddit_data.append(new_df, ignore_index=True)\n",
    "    \n"
   ]
  },
  {
   "cell_type": "markdown",
   "id": "b3348dbf-4751-47e7-afaf-5a87369a4258",
   "metadata": {},
   "source": [
    "#### Lastly, we save our data as a csv file for analysis."
   ]
  },
  {
   "cell_type": "code",
   "execution_count": 49,
   "id": "abf429d5-8d4f-4dd8-af37-1fdf9b10bdf1",
   "metadata": {},
   "outputs": [],
   "source": [
    "# Now we save this data as a .csv file\n",
    "subreddit_data.to_csv(\"RedditWineData.csv\", index=False)"
   ]
  }
 ],
 "metadata": {
  "kernelspec": {
   "display_name": "Python 3",
   "language": "python",
   "name": "python3"
  },
  "language_info": {
   "codemirror_mode": {
    "name": "ipython",
    "version": 3
   },
   "file_extension": ".py",
   "mimetype": "text/x-python",
   "name": "python",
   "nbconvert_exporter": "python",
   "pygments_lexer": "ipython3",
   "version": "3.8.8"
  }
 },
 "nbformat": 4,
 "nbformat_minor": 5
}
